{
 "cells": [
  {
   "cell_type": "code",
   "execution_count": 1,
   "metadata": {},
   "outputs": [],
   "source": [
    "import pandas as pd\n",
    "import numpy as np\n",
    "import seaborn as sns\n",
    "import matplotlib.pyplot as plt\n",
    "\n",
    "from xgboost import XGBClassifier\n",
    "from sklearn.model_selection import train_test_split\n",
    "from sklearn.metrics import accuracy_score, precision_score, confusion_matrix, recall_score, f1_score"
   ]
  },
  {
   "cell_type": "code",
   "execution_count": 2,
   "metadata": {},
   "outputs": [],
   "source": [
    "df = pd.read_csv('i4talent.csv')"
   ]
  },
  {
   "cell_type": "code",
   "execution_count": 3,
   "metadata": {},
   "outputs": [],
   "source": [
    "df['datum'] = pd.to_datetime(df['datum'])\n",
    "df['geboortedatum'] = pd.to_datetime(df['geboortedatum'])\n",
    "df['indiensttreding_datum'] = pd.to_datetime(df['indiensttreding_datum'])\n",
    "df['WerknemerID'] = df['WerknemerID'].astype(str)\n",
    "df['klant_id'] = df['klant_id'].astype(str) "
   ]
  },
  {
   "cell_type": "code",
   "execution_count": 4,
   "metadata": {},
   "outputs": [],
   "source": [
    "df['leeftijd'] = round((df['datum'] -  df['geboortedatum']) / np.timedelta64(1, 'Y'),1)\n",
    "df['lengte_dienst'] = round((df['datum'] -  df['indiensttreding_datum']) / np.timedelta64(1, 'Y'),1)\n",
    "df['stad'] = df['stad'].fillna('Onbekend')\n",
    "df['afdeling'] = df['afdeling'].fillna('Onbekend')"
   ]
  },
  {
   "cell_type": "code",
   "execution_count": 5,
   "metadata": {},
   "outputs": [],
   "source": [
    "df_sorted = df.sort_values(['WerknemerID','datum'], axis=0)\n",
    "df_sorted.drop(columns=['datum','geboortedatum','indiensttreding_datum','uitdiensttreding_datum','uitdiensttreding_reden','uitdiensttreding_type','geslacht_id','STATUS_JAAR'],inplace=True)"
   ]
  },
  {
   "cell_type": "code",
   "execution_count": 6,
   "metadata": {},
   "outputs": [],
   "source": [
    "df_sorted.drop_duplicates('WerknemerID', keep = 'last', inplace = True)\n",
    "df_sorted = df_sorted.reset_index(drop = True)\n",
    "df_sorted.drop('WerknemerID', axis = 1, inplace = True)"
   ]
  },
  {
   "cell_type": "code",
   "execution_count": 7,
   "metadata": {},
   "outputs": [],
   "source": [
    "df_sorted['STATUS'] = df_sorted['STATUS'] == 'Beëindigd'\n",
    "df_sorted['BUSINESS_UNIT'] = df_sorted['BUSINESS_UNIT'] == 'Intern'\n",
    "df_sorted['geslacht'] = df_sorted['geslacht'] == 'Man'"
   ]
  },
  {
   "cell_type": "code",
   "execution_count": 8,
   "metadata": {},
   "outputs": [
    {
     "data": {
      "text/html": [
       "<div>\n",
       "<style scoped>\n",
       "    .dataframe tbody tr th:only-of-type {\n",
       "        vertical-align: middle;\n",
       "    }\n",
       "\n",
       "    .dataframe tbody tr th {\n",
       "        vertical-align: top;\n",
       "    }\n",
       "\n",
       "    .dataframe thead th {\n",
       "        text-align: right;\n",
       "    }\n",
       "</style>\n",
       "<table border=\"1\" class=\"dataframe\">\n",
       "  <thead>\n",
       "    <tr style=\"text-align: right;\">\n",
       "      <th></th>\n",
       "      <th>leeftijd</th>\n",
       "      <th>lengte_dienst</th>\n",
       "      <th>geslacht</th>\n",
       "      <th>STATUS</th>\n",
       "      <th>BUSINESS_UNIT</th>\n",
       "      <th>stad_Alblasserdam</th>\n",
       "      <th>stad_Almere</th>\n",
       "      <th>stad_Alphen aan den Rijn</th>\n",
       "      <th>stad_Amstelveen</th>\n",
       "      <th>stad_Amsterdam</th>\n",
       "      <th>...</th>\n",
       "      <th>klant_id_42</th>\n",
       "      <th>klant_id_43</th>\n",
       "      <th>klant_id_44</th>\n",
       "      <th>klant_id_45</th>\n",
       "      <th>klant_id_46</th>\n",
       "      <th>klant_id_5</th>\n",
       "      <th>klant_id_6</th>\n",
       "      <th>klant_id_7</th>\n",
       "      <th>klant_id_8</th>\n",
       "      <th>klant_id_9</th>\n",
       "    </tr>\n",
       "  </thead>\n",
       "  <tbody>\n",
       "    <tr>\n",
       "      <th>0</th>\n",
       "      <td>62.0</td>\n",
       "      <td>26.3</td>\n",
       "      <td>True</td>\n",
       "      <td>False</td>\n",
       "      <td>True</td>\n",
       "      <td>0</td>\n",
       "      <td>0</td>\n",
       "      <td>0</td>\n",
       "      <td>0</td>\n",
       "      <td>1</td>\n",
       "      <td>...</td>\n",
       "      <td>0</td>\n",
       "      <td>0</td>\n",
       "      <td>0</td>\n",
       "      <td>0</td>\n",
       "      <td>0</td>\n",
       "      <td>0</td>\n",
       "      <td>0</td>\n",
       "      <td>0</td>\n",
       "      <td>0</td>\n",
       "      <td>0</td>\n",
       "    </tr>\n",
       "    <tr>\n",
       "      <th>1</th>\n",
       "      <td>59.0</td>\n",
       "      <td>26.3</td>\n",
       "      <td>False</td>\n",
       "      <td>False</td>\n",
       "      <td>True</td>\n",
       "      <td>0</td>\n",
       "      <td>0</td>\n",
       "      <td>0</td>\n",
       "      <td>0</td>\n",
       "      <td>1</td>\n",
       "      <td>...</td>\n",
       "      <td>0</td>\n",
       "      <td>0</td>\n",
       "      <td>0</td>\n",
       "      <td>0</td>\n",
       "      <td>0</td>\n",
       "      <td>0</td>\n",
       "      <td>0</td>\n",
       "      <td>0</td>\n",
       "      <td>0</td>\n",
       "      <td>0</td>\n",
       "    </tr>\n",
       "    <tr>\n",
       "      <th>2</th>\n",
       "      <td>61.0</td>\n",
       "      <td>26.3</td>\n",
       "      <td>False</td>\n",
       "      <td>False</td>\n",
       "      <td>True</td>\n",
       "      <td>0</td>\n",
       "      <td>0</td>\n",
       "      <td>0</td>\n",
       "      <td>0</td>\n",
       "      <td>1</td>\n",
       "      <td>...</td>\n",
       "      <td>0</td>\n",
       "      <td>0</td>\n",
       "      <td>0</td>\n",
       "      <td>0</td>\n",
       "      <td>0</td>\n",
       "      <td>0</td>\n",
       "      <td>0</td>\n",
       "      <td>0</td>\n",
       "      <td>0</td>\n",
       "      <td>0</td>\n",
       "    </tr>\n",
       "    <tr>\n",
       "      <th>3</th>\n",
       "      <td>57.0</td>\n",
       "      <td>26.3</td>\n",
       "      <td>True</td>\n",
       "      <td>False</td>\n",
       "      <td>True</td>\n",
       "      <td>0</td>\n",
       "      <td>0</td>\n",
       "      <td>0</td>\n",
       "      <td>0</td>\n",
       "      <td>1</td>\n",
       "      <td>...</td>\n",
       "      <td>0</td>\n",
       "      <td>0</td>\n",
       "      <td>0</td>\n",
       "      <td>0</td>\n",
       "      <td>0</td>\n",
       "      <td>0</td>\n",
       "      <td>0</td>\n",
       "      <td>0</td>\n",
       "      <td>0</td>\n",
       "      <td>0</td>\n",
       "    </tr>\n",
       "    <tr>\n",
       "      <th>4</th>\n",
       "      <td>58.0</td>\n",
       "      <td>26.3</td>\n",
       "      <td>True</td>\n",
       "      <td>False</td>\n",
       "      <td>True</td>\n",
       "      <td>0</td>\n",
       "      <td>0</td>\n",
       "      <td>0</td>\n",
       "      <td>0</td>\n",
       "      <td>1</td>\n",
       "      <td>...</td>\n",
       "      <td>0</td>\n",
       "      <td>0</td>\n",
       "      <td>0</td>\n",
       "      <td>0</td>\n",
       "      <td>0</td>\n",
       "      <td>0</td>\n",
       "      <td>0</td>\n",
       "      <td>0</td>\n",
       "      <td>0</td>\n",
       "      <td>0</td>\n",
       "    </tr>\n",
       "  </tbody>\n",
       "</table>\n",
       "<p>5 rows × 98 columns</p>\n",
       "</div>"
      ],
      "text/plain": [
       "   leeftijd  lengte_dienst  geslacht  STATUS  BUSINESS_UNIT  \\\n",
       "0      62.0           26.3      True   False           True   \n",
       "1      59.0           26.3     False   False           True   \n",
       "2      61.0           26.3     False   False           True   \n",
       "3      57.0           26.3      True   False           True   \n",
       "4      58.0           26.3      True   False           True   \n",
       "\n",
       "   stad_Alblasserdam  stad_Almere  stad_Alphen aan den Rijn  stad_Amstelveen  \\\n",
       "0                  0            0                         0                0   \n",
       "1                  0            0                         0                0   \n",
       "2                  0            0                         0                0   \n",
       "3                  0            0                         0                0   \n",
       "4                  0            0                         0                0   \n",
       "\n",
       "   stad_Amsterdam  ...  klant_id_42  klant_id_43  klant_id_44  klant_id_45  \\\n",
       "0               1  ...            0            0            0            0   \n",
       "1               1  ...            0            0            0            0   \n",
       "2               1  ...            0            0            0            0   \n",
       "3               1  ...            0            0            0            0   \n",
       "4               1  ...            0            0            0            0   \n",
       "\n",
       "   klant_id_46  klant_id_5  klant_id_6  klant_id_7  klant_id_8  klant_id_9  \n",
       "0            0           0           0           0           0           0  \n",
       "1            0           0           0           0           0           0  \n",
       "2            0           0           0           0           0           0  \n",
       "3            0           0           0           0           0           0  \n",
       "4            0           0           0           0           0           0  \n",
       "\n",
       "[5 rows x 98 columns]"
      ]
     },
     "execution_count": 8,
     "metadata": {},
     "output_type": "execute_result"
    }
   ],
   "source": [
    "df_model = pd.get_dummies(df_sorted)\n",
    "df_model.head()"
   ]
  },
  {
   "cell_type": "markdown",
   "metadata": {},
   "source": [
    "## XGBClassifier"
   ]
  },
  {
   "cell_type": "code",
   "execution_count": 9,
   "metadata": {},
   "outputs": [],
   "source": [
    "def print_confusion_matrix(y_test, y_predicted):\n",
    "    cm = confusion_matrix(y_test, y_predicted)\n",
    "    plt.figure(figsize=(5,5))\n",
    "    plt.clf()\n",
    "    plt.imshow(cm, interpolation='nearest', cmap=plt.cm.Wistia)\n",
    "    classNames = ['Negative','Positive']\n",
    "    plt.title('Confusion Matrix')\n",
    "    plt.ylabel('True label')\n",
    "    plt.xlabel('Predicted label')\n",
    "    tick_marks = np.arange(len(classNames))\n",
    "    plt.xticks(tick_marks, classNames, rotation=45)\n",
    "    plt.yticks(tick_marks, classNames)\n",
    "    s = [['TN','FP'], ['FN', 'TP']]\n",
    "\n",
    "    for i in range(2):\n",
    "        for j in range(2):\n",
    "            plt.text(j,i, str(s[i][j])+\" = \"+str(cm[i][j]))\n",
    "    plt.show()"
   ]
  },
  {
   "cell_type": "code",
   "execution_count": 10,
   "metadata": {},
   "outputs": [],
   "source": [
    "train_ratio = 0.65\n",
    "test_ratio = 0.20\n",
    "validation_ratio = 0.15"
   ]
  },
  {
   "cell_type": "code",
   "execution_count": 11,
   "metadata": {},
   "outputs": [],
   "source": [
    "Y = np.array(df_model['STATUS'])\n",
    "X = np.array(df_model.drop('STATUS', axis = 1))\n",
    "\n",
    "X_train, X_test, y_train, y_test = train_test_split(X, Y, test_size=1 - train_ratio)\n",
    "X_val, X_test, y_val, y_test = train_test_split(X_test, y_test, test_size=test_ratio/(test_ratio + validation_ratio)) "
   ]
  },
  {
   "cell_type": "code",
   "execution_count": 12,
   "metadata": {},
   "outputs": [
    {
     "name": "stderr",
     "output_type": "stream",
     "text": [
      "C:\\Users\\joach\\Anaconda3\\lib\\site-packages\\xgboost\\sklearn.py:1146: UserWarning: The use of label encoder in XGBClassifier is deprecated and will be removed in a future release. To remove this warning, do the following: 1) Pass option use_label_encoder=False when constructing XGBClassifier object; and 2) Encode your labels (y) as integers starting with 0, i.e. 0, 1, 2, ..., [num_class - 1].\n",
      "  warnings.warn(label_encoder_deprecation_msg, UserWarning)\n"
     ]
    },
    {
     "data": {
      "text/plain": [
       "XGBClassifier(base_score=0.5, booster='gbtree', colsample_bylevel=1,\n",
       "              colsample_bynode=1, colsample_bytree=1, gamma=0, gpu_id=-1,\n",
       "              importance_type='gain', interaction_constraints='',\n",
       "              learning_rate=0.2, max_delta_step=0, max_depth=25,\n",
       "              min_child_weight=1, missing=nan, monotone_constraints='()',\n",
       "              n_estimators=100, n_jobs=-1, num_parallel_tree=1, random_state=0,\n",
       "              reg_alpha=0, reg_lambda=1, scale_pos_weight=4, subsample=1,\n",
       "              tree_method='exact', validate_parameters=1, verbosity=0)"
      ]
     },
     "execution_count": 12,
     "metadata": {},
     "output_type": "execute_result"
    }
   ],
   "source": [
    "model = XGBClassifier(objective = 'binary:logistic', \n",
    "                      min_child_weight = 1,\n",
    "                      max_depth = 25,\n",
    "                      learning_rate = 0.20,\n",
    "                      scale_pos_weight = 4,\n",
    "                      verbosity = 0, n_jobs = -1)\n",
    "model.fit(X_train, y_train,\n",
    "          early_stopping_rounds = 20,\n",
    "          verbose=0,\n",
    "          eval_metric='auc',\n",
    "          eval_set=[(X_val, y_val)])"
   ]
  },
  {
   "cell_type": "code",
   "execution_count": 13,
   "metadata": {},
   "outputs": [
    {
     "name": "stderr",
     "output_type": "stream",
     "text": [
      "C:\\Users\\joach\\Anaconda3\\lib\\site-packages\\xgboost\\core.py:104: UserWarning: ntree_limit is deprecated, use `iteration_range` or model slicing instead.\n",
      "  UserWarning\n"
     ]
    },
    {
     "name": "stdout",
     "output_type": "stream",
     "text": [
      "Precision: 98.87%, Recall: 94.58%, F1: 96.68%\n"
     ]
    },
    {
     "data": {
      "image/png": "[encoded data removed]",
      "text/plain": [
       "<Figure size 1800x720 with 1 Axes>"
      ]
     },
     "metadata": {
      "needs_background": "light"
     },
     "output_type": "display_data"
    },
    {
     "data": {
      "image/png": "[encoded data removed]",
      "text/plain": [
       "<Figure size 360x360 with 1 Axes>"
      ]
     },
     "metadata": {
      "needs_background": "light"
     },
     "output_type": "display_data"
    }
   ],
   "source": [
    "y_pred = model.predict(X_test, ntree_limit = 5)\n",
    "predictions = [value for value in y_pred]\n",
    "\n",
    "precision = precision_score(y_test, predictions, average='binary', pos_label = 1)\n",
    "recall = recall_score(y_test, predictions, average='binary', pos_label = 1)\n",
    "f1 = f1_score(y_test, predictions, average='binary', pos_label = 1)\n",
    "\n",
    "print(\"Precision: %.2f%%, Recall: %.2f%%, F1: %.2f%%\" % ((precision * 100.0), (recall * 100.0), (f1 * 100.0)))\n",
    "\n",
    "feats = {} \n",
    "for feature, importance in zip(df_model.drop('STATUS', axis = 1).columns, model.feature_importances_):\n",
    "    feats[feature] = importance \n",
    "\n",
    "importances = pd.DataFrame.from_dict(feats, orient='index').rename(columns={0: 'Gini-importance'})\n",
    "importances.sort_values(by='Gini-importance',ascending = False)[:25].plot(kind='barh',figsize=(25, 10),fontsize=20)\n",
    "\n",
    "print_confusion_matrix(y_test, predictions)"
   ]
  },
  {
   "cell_type": "code",
   "execution_count": null,
   "metadata": {},
   "outputs": [],
   "source": []
  }
 ],
 "metadata": {
  "kernelspec": {
   "display_name": "Python 3",
   "language": "python",
   "name": "python3"
  },
  "language_info": {
   "codemirror_mode": {
    "name": "ipython",
    "version": 3
   },
   "file_extension": ".py",
   "mimetype": "text/x-python",
   "name": "python",
   "nbconvert_exporter": "python",
   "pygments_lexer": "ipython3",
   "version": "3.7.9"
  }
 },
 "nbformat": 4,
 "nbformat_minor": 4
}
